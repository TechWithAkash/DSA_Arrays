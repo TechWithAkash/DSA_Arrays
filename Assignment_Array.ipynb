{
 "cells": [
  {
   "cell_type": "code",
   "execution_count": null,
   "id": "003c5f75",
   "metadata": {},
   "outputs": [],
   "source": [
    "#1)\n",
    "\n",
    "# note: I write all this program using leetcode platform so please run on there.\n",
    "\n",
    "class Solution:\n",
    "    def arrayPairSum(self, nums: List[int]) -> int:\n",
    "        nums.sort()\n",
    "        res = 0\n",
    "        for i in range(0, len(nums), 2):\n",
    "            res += nums[i]\n",
    "        return res\n",
    "        "
   ]
  },
  {
   "cell_type": "code",
   "execution_count": null,
   "id": "0f7956d3",
   "metadata": {},
   "outputs": [],
   "source": []
  },
  {
   "cell_type": "code",
   "execution_count": null,
   "id": "491dde87",
   "metadata": {},
   "outputs": [],
   "source": [
    "#2)\n",
    "class Solution:\n",
    "    def distributeCandies(self, candyType: List[int]) -> int:\n",
    "        seen = {}\n",
    "        i = 0\n",
    "        amount_allowed = 0\n",
    "        while(i<len(candyType) and amount_allowed<len(candyType)//2):\n",
    "            if seen.get(candyType[i],0)==0:\n",
    "                amount_allowed+=1\n",
    "                seen[candyType[i]] = 1\n",
    "            i+=1\n",
    "        return amount_allowed\n",
    "\n"
   ]
  },
  {
   "cell_type": "code",
   "execution_count": null,
   "id": "8a8f6f4d",
   "metadata": {},
   "outputs": [],
   "source": []
  },
  {
   "cell_type": "code",
   "execution_count": null,
   "id": "c7ae1459",
   "metadata": {},
   "outputs": [],
   "source": [
    "#3)\n",
    "class Solution:\n",
    "    def findLHS(self, nums: List[int]) -> int:\n",
    "        # You can use a hash table or dictionary to store the frequency of each number. \n",
    "        # Then, iterate through the keys of the dictionary and check if there is a key \n",
    "        # whose value is one greater. If there is, compute the sum of the frequencies of \n",
    "        # those two keys and update the maximum length if necessary. \n",
    "\n",
    "        d, a = {}, 0\n",
    "        for i in nums:\n",
    "            if i not in d: d[i] = 1\n",
    "            else: d[i] += 1\n",
    "        for i in d:\n",
    "            if i + 1 in d.keys():\n",
    "                a = max(a, d[i] + d[i+1])\n",
    "        return a"
   ]
  },
  {
   "cell_type": "code",
   "execution_count": null,
   "id": "c750ce1a",
   "metadata": {},
   "outputs": [],
   "source": []
  },
  {
   "cell_type": "code",
   "execution_count": null,
   "id": "c0e873e5",
   "metadata": {},
   "outputs": [],
   "source": [
    "#4)\n",
    "class Solution:\n",
    "    def canPlaceFlowers(self, flowerbed: List[int], n: int) -> bool:\n",
    "        if n == 0:\n",
    "            return True\n",
    "        for i in range(len(flowerbed)):\n",
    "            if flowerbed[i] == 0 and (i == 0 or flowerbed[i-1] == 0) and (i == len(flowerbed)-1 or flowerbed[i+1] == 0):\n",
    "                flowerbed[i] = 1\n",
    "                n -= 1\n",
    "                if n == 0:\n",
    "                    return True\n",
    "        return False"
   ]
  },
  {
   "cell_type": "code",
   "execution_count": null,
   "id": "575520c8",
   "metadata": {},
   "outputs": [],
   "source": []
  },
  {
   "cell_type": "code",
   "execution_count": null,
   "id": "ca302dd7",
   "metadata": {},
   "outputs": [],
   "source": [
    "#5)\n",
    "class Solution:\n",
    "    def maximumProduct(self, vec: List[int]) -> int:\n",
    "        if len(vec) == 3:\n",
    "            return vec[0] * vec[1] * vec[2]\n",
    "        max1 = max2 = max3 = -1000 \n",
    "        min1 = min2 = 1000\n",
    "        for i in vec:\n",
    "            if i > max1:\n",
    "                max3 = max2\n",
    "                max2 = max1\n",
    "                max1 = i\n",
    "            elif i > max2:\n",
    "                max3 = max2\n",
    "                max2 = i\n",
    "            elif i > max3:\n",
    "                max3 = i\n",
    "            if i < min1:\n",
    "                min2 = min1\n",
    "                min1 = i\n",
    "            elif i < min2:\n",
    "                min2 = i\n",
    "        return max(max1 * max2 * max3, min1 * min2 * max1)"
   ]
  },
  {
   "cell_type": "code",
   "execution_count": null,
   "id": "6d73a06d",
   "metadata": {},
   "outputs": [],
   "source": []
  },
  {
   "cell_type": "code",
   "execution_count": null,
   "id": "4b6103f4",
   "metadata": {},
   "outputs": [],
   "source": [
    "#6)\n",
    "class Solution:\n",
    "    def search(self, nums: List[int], target: int) -> int:\n",
    "        # Check for infinite loop on two elements \n",
    "        # Handle integer overflow \n",
    "        low,high=0,len(nums)-1\n",
    "\n",
    "        while(low<high):\n",
    "            mid = low + (high-low)//2\n",
    "            if(target <= nums[mid]  ):\n",
    "                high = mid\n",
    "            else:\n",
    "                low = mid+1\n",
    "        return low if nums[low]==target  else -1"
   ]
  },
  {
   "cell_type": "code",
   "execution_count": null,
   "id": "5bc6875e",
   "metadata": {},
   "outputs": [],
   "source": []
  },
  {
   "cell_type": "code",
   "execution_count": null,
   "id": "005b745c",
   "metadata": {},
   "outputs": [],
   "source": [
    "#7)\n",
    "class Solution:\n",
    "    def isMonotonic(self, nums: List[int]) -> bool:\n",
    "        if nums[-1]> nums[0]:\n",
    "            for i in range(len(nums)-1):\n",
    "                if nums[i+1] < nums[i]:\n",
    "                    return False\n",
    "            return True\n",
    "        elif nums[-1]<nums[0]:\n",
    "            for i in range(len(nums)-1):\n",
    "                if nums[i+1] > nums[i]:\n",
    "                    return False\n",
    "            return True\n",
    "        else:\n",
    "            for i in range(len(nums)-1):\n",
    "                if nums[i+1] != nums[i]:\n",
    "                    return False\n",
    "            return True\n",
    "            "
   ]
  },
  {
   "cell_type": "code",
   "execution_count": null,
   "id": "70ee4ba0",
   "metadata": {},
   "outputs": [],
   "source": []
  },
  {
   "cell_type": "code",
   "execution_count": null,
   "id": "baf6c0e0",
   "metadata": {},
   "outputs": [],
   "source": [
    "#8)\n",
    "class Solution:\n",
    "    def smallestRangeI(self, nums: List[int], k: int) -> int:\n",
    "        x=max(nums)\n",
    "        y=min(nums)\n",
    "        return max(0,(x-k)-(y+k))"
   ]
  }
 ],
 "metadata": {
  "kernelspec": {
   "display_name": "Python 3 (ipykernel)",
   "language": "python",
   "name": "python3"
  },
  "language_info": {
   "codemirror_mode": {
    "name": "ipython",
    "version": 3
   },
   "file_extension": ".py",
   "mimetype": "text/x-python",
   "name": "python",
   "nbconvert_exporter": "python",
   "pygments_lexer": "ipython3",
   "version": "3.10.9"
  }
 },
 "nbformat": 4,
 "nbformat_minor": 5
}
